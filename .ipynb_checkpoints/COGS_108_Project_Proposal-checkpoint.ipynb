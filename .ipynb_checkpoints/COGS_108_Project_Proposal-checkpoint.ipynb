{
 "cells": [
  {
   "cell_type": "markdown",
   "metadata": {},
   "source": [
    "# COGS 108 - Project Proposal"
   ]
  },
  {
   "cell_type": "markdown",
   "metadata": {},
   "source": [
    "## Names and Github ID"
   ]
  },
  {
   "cell_type": "markdown",
   "metadata": {},
   "source": [
    "Names: Rakesh Senthilvelan, Kayla Monnette, Geon Yoo, Fion Quach"
   ]
  },
  {
   "cell_type": "markdown",
   "metadata": {},
   "source": [
    "Github Usernames: rakeshsenthil, kaylamonnettte, jasongeon123, fifiquach21"
   ]
  },
  {
   "cell_type": "markdown",
   "metadata": {},
   "source": [
    "## Research Question"
   ]
  },
  {
   "cell_type": "markdown",
   "metadata": {},
   "source": [
    "What differences are found in average Yelp ratings for chain restaurants based on what part of San Diego they are in? Do ratings for chains in one part of town significantly differ from ratings for that same chain in another part of town?  "
   ]
  },
  {
   "cell_type": "markdown",
   "metadata": {},
   "source": [
    "## Background and Prior Work"
   ]
  },
  {
   "cell_type": "markdown",
   "metadata": {},
   "source": [
    "1. Based on looking into Yelp reviews for multiple chain restaurants on Yelp, we noticed that some chains were rated higher than other brances of those same chains based on location. One interesting thing we saw was slightly different ratings that were based on certain aspects of the location such as proximity to a university and average income in the area among others. For example, Burger King's reviews for their mutliple locations in San Diego:\n",
    "https://www.yelp.com/search?find_desc=Burger%20King&find_loc=San%20Diego%2C%20CA"
   ]
  },
  {
   "cell_type": "markdown",
   "metadata": {},
   "source": [
    "## Hypothesis"
   ]
  },
  {
   "cell_type": "markdown",
   "metadata": {},
   "source": [
    "Null hypothesis: Based on population density in the different areas of San Diego, there is no impact on the average ratings for certain chain restaurants based on location."
   ]
  },
  {
   "cell_type": "markdown",
   "metadata": {},
   "source": [
    "Alternative hypothesis: Based on population density in the different areas of San Diego, there is a noticeable impact on the average ratings for certain chain restaurants based on location."
   ]
  },
  {
   "cell_type": "markdown",
   "metadata": {},
   "source": [
    "## Data"
   ]
  },
  {
   "cell_type": "markdown",
   "metadata": {},
   "source": [
    "Ideal datasets would be Yelp data from their API on selected chain restaurant brands in the different areas of San Diego and population data on the different areas of San Diego. These could be connected through zip code. The variables for the Yelp dataset would be Name, Zip Code, District Name and Rating. For population data, zip code and population/population density would be beneficial. "
   ]
  },
  {
   "cell_type": "markdown",
   "metadata": {},
   "source": [
    "## Ethics and Privacy"
   ]
  },
  {
   "cell_type": "markdown",
   "metadata": {},
   "source": [
    "This would be done ethically through publicly available data. We hope to use Yelp's API so that we maintain all ethical and privacy standards while using that data. We also hope to use data from the government of San Diego in the population part of our project. No personally identifiable information will be used in our analysis."
   ]
  },
  {
   "cell_type": "code",
   "execution_count": null,
   "metadata": {},
   "outputs": [],
   "source": []
  }
 ],
 "metadata": {
  "kernelspec": {
   "display_name": "Python 3",
   "language": "python",
   "name": "python3"
  },
  "language_info": {
   "codemirror_mode": {
    "name": "ipython",
    "version": 3
   },
   "file_extension": ".py",
   "mimetype": "text/x-python",
   "name": "python",
   "nbconvert_exporter": "python",
   "pygments_lexer": "ipython3",
   "version": "3.7.1"
  }
 },
 "nbformat": 4,
 "nbformat_minor": 2
}
